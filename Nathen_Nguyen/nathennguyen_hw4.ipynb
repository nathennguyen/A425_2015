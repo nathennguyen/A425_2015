{
 "cells": [
  {
   "cell_type": "markdown",
   "metadata": {},
   "source": [
    "# Problem 1"
   ]
  },
  {
   "cell_type": "markdown",
   "metadata": {},
   "source": [
    "##A\n",
    "We know the defitintion of redshift Z is \n",
    "Z = (λobserved - λemitted)/( λobserved) \n",
    "\n",
    "Then from this let us define define Z2, the redshift observed for the Galaxy 2 as\n",
    "Z2  = ( λ1,o - λ2,e)/( λ1,o) \n",
    "where \n",
    "λ1,o is the wavelength observed by Galaxy 1\n",
    "λ2,e is the wavelength emitted by Galaxy 2\n",
    "\n",
    "and Z1  = ( λ0,o - λ1,e)/( λ0,o) \n",
    "where\n",
    "λ0,o is the wavelength observed by the observer\n",
    "λ1,e is the light emitted by Galaxy 1\n",
    "\n",
    "Rearranging Z into the form 1-Z = λe/λo we get \n",
    "Z1 = 1 - (λ1,e/λ0,o)  and Z2 = 1 - (λ2,e/λ1,o)\n",
    "\n",
    "Then we an rearrange them inorder to get \n",
    "λ1,e = λ0,o(1-Z1) {1}\n",
    "and \n",
    "λ2,e = (1-Z2)λ1,o {2}\n",
    "\n",
    "Then comes a very important relation. \n",
    "λ1,o = λ1,e \n",
    "in other words, the amount of light which Galaxy 1 observes, is that same amout of light which is emitted by it from the perspective of the observer. Thus we can plug {1} into {2} and get; \n",
    "λ2,e = (1-Z2) * λ0,o(1-Z1) moving variables over we get\n",
    "λ2,e/λ0,o = (1-Z2) * (1-Z1) \n",
    "\n",
    "Expanding out (1-Z2) * (1-Z1) we get\n",
    "λ2,e/λ0,o = 1 -Z1 - Z2 - Z1Z2 \n",
    "λ2,e/λ0,o - 1 - Z1 = Z2(-1 - Z1) \n",
    "\n",
    "For simplicity, define q = λ2,e/λ0,o \n",
    "1 - q = Z2,0 the redshift of Galaxy 2 from the perspective of the observer, usefull for problem B\n",
    "then we can finnaly get \n",
    "\n",
    "Z2 = (Z1 - 1 - q)/(1 + Z1) \n",
    "\n"
   ]
  },
  {
   "cell_type": "markdown",
   "metadata": {},
   "source": [
    "##B \n",
    "\n",
    "Start with the definition of anuglar diameter distance\n",
    "da  = dl /(1+z) \n",
    "where dl is the luminosity distance \n",
    "dl = (L/4πf)^1/2 = (1+z)Sk(r) \n",
    "Thus, \n",
    "da = Sk(r)/(1+z) \n",
    "\n",
    "Our universe for B is a Einstein-deSitter one, therefore Ωm = 1 and the universe is completly flat.\n",
    "Therefore Sk = r\n",
    "\n",
    "da= r/(1+z)\n",
    "\n",
    "In this case, r is the comoving distance. \n",
    "I will now use my code from the previous homework set to solve comoving distnace in a given universe with inputs of redshift\n"
   ]
  },
  {
   "cell_type": "markdown",
   "metadata": {},
   "source": [
    "First, I would like to define some terms. \n",
    "Z0,1 = 0.5 the redshift of Galaxy 1 from observer\n",
    "Z0,2 = 1.6 the redshift of Galaxy 2 from the observer\n",
    "\n",
    "Then using the previous relation \n",
    "Z2 = (Z1 - 1 - q)/(1 + Z1) \n",
    "\n",
    "1 - q = Z2,0 => q = 1 - Z2,0 \n",
    "We can solve for the redshift of Z2 from Z1, with our naming convetion it becomes\n",
    "Z2,1 = (Z1 - 1 - (1 - Z2,0)/(1 + Z1)\n",
    "Z2,1 = (0.5 - 1 - 1 + 1.6)/(1 + 0.5)\n",
    "where Z2,1 is the redshift of Galaxy 2 from Galaxy 1"
   ]
  },
  {
   "cell_type": "code",
   "execution_count": 17,
   "metadata": {
    "collapsed": false,
    "scrolled": true
   },
   "outputs": [
    {
     "name": "stdout",
     "output_type": "stream",
     "text": [
      "0.06666666666666672\n"
     ]
    }
   ],
   "source": [
    "Z01 = 0.5\n",
    "Z02 = 1.6\n",
    "Z12 = (0.5 - 1 - 1 + 1.6)/(1 + 0.5) \n",
    "print (Z12)"
   ]
  },
  {
   "cell_type": "markdown",
   "metadata": {},
   "source": [
    "Z12 = 0.66666666672 = 1/15"
   ]
  },
  {
   "cell_type": "code",
   "execution_count": 18,
   "metadata": {
    "collapsed": true
   },
   "outputs": [],
   "source": [
    "from scipy.integrate import quad\n",
    "import numpy as np\n",
    "import matplotlib.pyplot as plt\n",
    "%matplotlib inline"
   ]
  },
  {
   "cell_type": "markdown",
   "metadata": {},
   "source": [
    "For proper distance we have the integral r = Integral[(cdt)/a] = Integral{0 to z}[(cdz)/H(z)]\n",
    "\n",
    "We are given that (H(z)/H0)^2 = Ω{r}(1+z)^4 + Ω{m}(1+z)^3 + Ω{lambda} + (1-Ω{o}(1+z)^2\n",
    "\n",
    "We know that the universe is flat for this problem, so the Ω for curviture goes to 0.\n",
    "\n",
    "Solving for H(z) we get H(z) = H0*sqrt[Ω{m}(1+z)^3 ]\n",
    "\n",
    "Plugging into the integral for comoving distance we get\n",
    "\n",
    "r = integral{0 to z}[(cdz)/(H0sqrt[Ω{m}(1+z)^3])]\n",
    "\n",
    "We are given that Ω{mass} = 1 for this problem (Einstein-deSitter universe)"
   ]
  },
  {
   "cell_type": "code",
   "execution_count": 56,
   "metadata": {
    "collapsed": false
   },
   "outputs": [
    {
     "name": "stdout",
     "output_type": "stream",
     "text": [
      "157.26784229444988 325.52236467526075 27.214254614996005\n"
     ]
    }
   ],
   "source": [
    "H0= 2.2683e-18 #seconds\n",
    "H0gyr= 0.07154 #gigayears\n",
    "c = 30000000 #m*s^-1\n",
    "\n",
    "\n",
    "def integrand(z):\n",
    "    return (c/(H0*(1*(1+z)**3)**(1/2)))\n",
    "\n",
    "integral01, err = quad(integrand, 0, Z01)\n",
    "integral02, err = quad(integrand, 0, Z02)\n",
    "integral12, err = quad(integrand, 0, Z12)\n",
    "\n",
    "####*3.24e-23 convert meters to Mpc\n",
    "r01 = integral01*3.24e-23  #comoving distance to Galaxy 1 from observer\n",
    "r02 = integral02*3.24e-23   #comoving distnace to Galaxy 2 from observer\n",
    "r12 = integral12*3.24e-23  #comoving distance to Galaxy 2 from Galaxy 1\n",
    "\n",
    "print(r01,r02,r12)"
   ]
  },
  {
   "cell_type": "markdown",
   "metadata": {},
   "source": [
    "then using the equation for angular diameter distance da= r/(1+z) we can get"
   ]
  },
  {
   "cell_type": "code",
   "execution_count": 57,
   "metadata": {
    "collapsed": false
   },
   "outputs": [
    {
     "name": "stdout",
     "output_type": "stream",
     "text": [
      "104.84522819629991 125.2009094904849 25.513363701558756\n"
     ]
    }
   ],
   "source": [
    "da01 = r01/(1 + Z01)\n",
    "da02 = r02/(1 + Z02)\n",
    "da12 = r12/(1 + Z12)\n",
    "\n",
    "print(da01, da02, da12)"
   ]
  },
  {
   "cell_type": "markdown",
   "metadata": {},
   "source": [
    "da01 = 104.845 Mpc\n",
    "\n",
    "da02 = 125.2009\n",
    "\n",
    "da12 = 25.5134 Mpc/gigyear\n",
    "\n",
    "##C\n",
    "An observation we can make from these calculations is that \n",
    "da12 != da02 - da01. \n",
    "The simplist way to solve A would to be setting Z12 = Z02-Z01, but comparing to our work so far, we can state this would result in a miscalculation. \n",
    "The values are close, as da02 - da01 = 20.6529 Mpc, this is roughly 4/5 of what we measured for da12. This is a surprise, but not unexpected when dealing with the cosmology of galaxies on Mpc distances. Galaxy 1 and Galaxy 2 are closer to each other than the observer is to either of them, thus it is not surprising that they should observe each other closer than we observe them to be. This is due to GR."
   ]
  },
  {
   "cell_type": "markdown",
   "metadata": {},
   "source": [
    "## Problem 2\n",
    "\n",
    "We are given that \n",
    "N = 1000 galaxies inside the half mass radius\n",
    "rh = 1.5 Mpc , the half mass radius\n",
    "Σ = 10e-3 Mpc^2 \n",
    "\n",
    "first we find the mean number density of the half mass radius\n",
    "the volume is given from\n",
    "4/3 *π * r^2 \n",
    "\n",
    "from this we arrive that V = 14.137 Mpc^3 (volume of the half mass radius)\n",
    "then we do n = N/V and arrive at n = 70.735 1/Mpc^3\n",
    "\n",
    "a simplified equation to calculate mean free path is \n",
    "MFP = 1/(Σ * n) = 1/(10e-3 Mpc^2 * 70.735 Mpc^-3) =  14.137 Mpc\n",
    "This is the average distnace a galaxy travels before it collides with another.\n",
    "\n",
    "To calculate the time for this to happen we devide by σ, the velocity dispersion of the Coma cluster. σ = 880 km-s^-1.\n",
    "Since we are dealing with Mpc, we can convert σ to 2.8519e-17 Mpc-s^-1 \n",
    "\n",
    "thus, we get MFP/σ = 14.137 Mpc/2.8519e-17 Mps-s^-1\n",
    "the result is *4.957e17s* which we can convert to\n",
    "*15.7 billions years*\n",
    "\n",
    "This is greater than than the Hubble time "
   ]
  },
  {
   "cell_type": "markdown",
   "metadata": {},
   "source": [
    "The collision time between M31 and the Milky way is as follows\n",
    "the distance between the two is 700 kpc, and M31 is moving towards the Milky Way at 120km-s^-1. \n",
    "\n",
    "Thus to calculate the time of collsion we simply divide the distance by the velocity. \n",
    "\n",
    "to make things easier we convert 120km-s^-1 to 3.8889e-15 Kpc/s\n",
    "\n",
    "doing the math 700Kpc/3.8889e-15 Kpc-s^-1 = 1.7999e17 seconds\n",
    "which we can convert to *5.7077 billions years*"
   ]
  },
  {
   "cell_type": "markdown",
   "metadata": {},
   "source": [
    "The collision time between Galaxies in the Coma Cluster is much greater than the time between M31 and the Milky Way, in fact the times between collsions of Galaxies in the Coma Cluster is greater than the hubble time. \n",
    "\n",
    "The time between the collision of M31 and the Milky Way is roughly 1/3 of that of the mean collsion time of galaxies in the Comma Cluster"
   ]
  },
  {
   "cell_type": "code",
   "execution_count": null,
   "metadata": {
    "collapsed": true
   },
   "outputs": [],
   "source": []
  }
 ],
 "metadata": {
  "kernelspec": {
   "display_name": "Python 3",
   "language": "python",
   "name": "python3"
  },
  "language_info": {
   "codemirror_mode": {
    "name": "ipython",
    "version": 3
   },
   "file_extension": ".py",
   "mimetype": "text/x-python",
   "name": "python",
   "nbconvert_exporter": "python",
   "pygments_lexer": "ipython3",
   "version": "3.4.3"
  }
 },
 "nbformat": 4,
 "nbformat_minor": 0
}
