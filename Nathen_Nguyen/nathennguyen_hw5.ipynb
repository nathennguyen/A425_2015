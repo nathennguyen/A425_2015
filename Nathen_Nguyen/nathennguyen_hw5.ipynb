{
 "cells": [
  {
   "cell_type": "code",
   "execution_count": 58,
   "metadata": {
    "collapsed": false
   },
   "outputs": [
    {
     "name": "stdout",
     "output_type": "stream",
     "text": [
      "Populating the interactive namespace from numpy and matplotlib\n"
     ]
    },
    {
     "name": "stderr",
     "output_type": "stream",
     "text": [
      "WARNING: pylab import has clobbered these variables: ['step']\n",
      "`%matplotlib` prevents importing * from pylab and numpy\n"
     ]
    }
   ],
   "source": [
    "%pylab inline\n",
    "from scipy.integrate import quad"
   ]
  },
  {
   "cell_type": "markdown",
   "metadata": {},
   "source": [
    "# Problem 1"
   ]
  },
  {
   "cell_type": "code",
   "execution_count": 59,
   "metadata": {
    "collapsed": false
   },
   "outputs": [],
   "source": [
    "class Universe:\n",
    "    \n",
    "    def __init__(self,omega_rad,omega_mass,omega_lam):\n",
    "\n",
    "        self.H0 =  2.2683e-18 #seconds\n",
    "        self.omega_rad = omega_rad\n",
    "        self.omega_mass = omega_mass\n",
    "        self.omega_lam = omega_lam\n",
    "        self.omega_0 = (self.omega_rad+self.omega_mass+self.omega_lam)\n",
    "        pass\n",
    "    \n",
    "    def friedmann_eq(self, x):\n",
    "        t = np.sqrt(1/(self.H0**2.0*(self.omega_rad*(x**-2.0)+self.omega_mass*(x**-1.0) +\n",
    "                             self.omega_lam*(x**2.0)+(1.0-self.omega_0+0.j))))\n",
    "        if imag(t)==0.j:\n",
    "            return abs(t)\n",
    "        else:\n",
    "            pass \n",
    "\n",
    "        "
   ]
  },
  {
   "cell_type": "code",
   "execution_count": 114,
   "metadata": {
    "collapsed": false
   },
   "outputs": [
    {
     "name": "stdout",
     "output_type": "stream",
     "text": [
      "[             nan   1.23183883e-02   3.51447349e-02   6.51390775e-02\n",
      "   1.01199804e-01   1.42745616e-01   1.89427750e-01   2.41027450e-01\n",
      "   2.97408916e-01   3.58494428e-01   4.24249955e-01   4.94676355e-01\n",
      "   5.69803787e-01   6.49688147e-01   7.34408819e-01   8.24067367e-01\n",
      "   9.18786906e-01   1.01871202e+00   1.12400910e+00   1.23486712e+00\n",
      "   1.35149876e+00   1.47414181e+00   1.60306106e+00   1.73855045e+00\n",
      "   1.88093566e+00   2.03057709e+00   2.18787338e+00   2.35326534e+00\n",
      "   2.52724053e+00   2.71033837e+00   2.90315596e+00   3.10635461e+00\n",
      "   3.32066700e+00   3.54690506e+00   3.78596839e+00   4.03885305e+00\n",
      "   4.30666005e+00   4.59060311e+00   4.89201407e+00   5.21234411e+00\n",
      "   5.55315754e+00   5.91611343e+00   6.30292813e+00   6.71530939e+00\n",
      "   7.15484977e+00   7.62286606e+00   8.12017325e+00   8.64679211e+00\n",
      "   9.20161201e+00   9.78206786e+00   1.03839329e+01   1.10013504e+01\n",
      "   1.16271925e+01   1.22537251e+01   1.28734269e+01   1.34797326e+01\n",
      "   1.40675153e+01   1.46332448e+01   1.51748782e+01   1.56915964e+01\n",
      "   1.61834919e+01   1.66512793e+01   1.70960589e+01   1.75191411e+01\n",
      "   1.79219239e+01   1.83058122e+01   1.86721679e+01   1.90222812e+01\n",
      "   1.93573559e+01   1.96785048e+01   1.99867490e+01   2.02830224e+01\n",
      "   2.05681767e+01   2.08429877e+01   2.11081620e+01   2.13643429e+01\n",
      "   2.16121173e+01   2.18520201e+01   2.20845406e+01   2.23101258e+01\n",
      "   2.25291859e+01   2.27420969e+01   2.29492047e+01   2.31508276e+01\n",
      "   2.33472594e+01   2.35387713e+01   2.37256143e+01   2.39080210e+01\n",
      "   2.40862075e+01   2.42603745e+01   2.44307088e+01   2.45973848e+01\n",
      "   2.47605652e+01   2.49204021e+01   2.50770379e+01   2.52306062e+01\n",
      "   2.53812323e+01   2.55290339e+01   2.56741220e+01   2.58166008e+01]\n"
     ]
    },
    {
     "data": {
      "text/plain": [
       "<matplotlib.text.Text at 0x7fe758cf4b70>"
      ]
     },
     "execution_count": 114,
     "metadata": {},
     "output_type": "execute_result"
    },
    {
     "data": {
      "image/png": "[encoded data removed]",
      "text/plain": [
       "<matplotlib.figure.Figure at 0x7fe758d85ef0>"
      ]
     },
     "metadata": {},
     "output_type": "display_data"
    }
   ],
   "source": [
    "univ_loiter = Universe(0.0,0.60,2.060)\n",
    "def integrand(x):\n",
    "        try:\n",
    "            return quad(univ_loiter.friedmann_eq,0.0,x,)\n",
    "        except:\n",
    "            return np.nan,np.nan\n",
    "    \n",
    "step = 0.01\n",
    "values = [] \n",
    "a = np.linspace(0.0,1.0,100)\n",
    "for i in a:\n",
    "    #print(a)\n",
    "    integral0,err = integrand(i)\n",
    "    #print(integral0)\n",
    "    values.append(integral0)\n",
    "values = np.asarray(values)\n",
    "values = values/(1e9*365*24*3600) # converting to Gyr\n",
    "print(values)\n",
    "\n",
    "figure(figsize=(9,3))\n",
    "plt.plot(values,a)\n",
    "xlabel('time Gyr',fontsize = 20)\n",
    "ylabel('scale factor a(t)', fontsize= 20)\n",
    "title(\"Loitering Universe\", fontsize = 20)"
   ]
  },
  {
   "cell_type": "code",
   "execution_count": 61,
   "metadata": {
    "collapsed": true
   },
   "outputs": [],
   "source": [
    "import numpy.ma as ma"
   ]
  },
  {
   "cell_type": "code",
   "execution_count": 110,
   "metadata": {
    "collapsed": false
   },
   "outputs": [],
   "source": [
    "univ_crunch = Universe(0.0,6.0,0.0)\n",
    "\n",
    "\n",
    "def integrand(x):\n",
    "        try:\n",
    "            return quad(univ_crunch.friedmann_eq,0.0,x,)\n",
    "        except:\n",
    "            return np.nan,np.nan\n",
    "    \n",
    "step = 0.01\n",
    "values = [] \n",
    "a = np.linspace(0.0,3,1000)\n",
    "for i in a:\n",
    "    #print(a)\n",
    "    integral0,err = integrand(i)\n",
    "    #print(integral0)\n",
    "    values.append(integral0)\n",
    "values = np.asarray(values)\n",
    "values = values/(1e9*365*24*3600) # converting to Gyr\n",
    "#print(values)\n",
    "\n",
    "values2 = ma.masked_invalid(values)\n",
    "a2 = ma.masked_array(a,mask=values2.mask)\n",
    "#print(a2.max())\n",
    "#print(values2.max())\n",
    "\n",
    "\n"
   ]
  },
  {
   "cell_type": "code",
   "execution_count": 113,
   "metadata": {
    "collapsed": false
   },
   "outputs": [
    {
     "data": {
      "text/plain": [
       "<matplotlib.text.Text at 0x7fe758d10550>"
      ]
     },
     "execution_count": 113,
     "metadata": {},
     "output_type": "execute_result"
    },
    {
     "data": {
      "image/png": "[encoded data removed]",
      "text/plain": [
       "<matplotlib.figure.Figure at 0x7fe758da08d0>"
      ]
     },
     "metadata": {},
     "output_type": "display_data"
    }
   ],
   "source": [
    "def integrand2(x):\n",
    "        try:\n",
    "            return quad(univ_crunch.friedmann_eq,a2.max(),x,)\n",
    "        except:\n",
    "            return np.nan,np.nan\n",
    "step = 0.01\n",
    "values3 = [] \n",
    "a3 = np.linspace(a2.max(),0,1000)\n",
    "#print(a3)\n",
    "for i in a3:\n",
    "    integral2,err = integrand2(i)\n",
    "    values3.append(integral2)\n",
    "#print(integral2)    \n",
    "values3 = np.asarray(values3)\n",
    "values3 = values3/(1e9*365*24*3600)\n",
    "#print(values3)    \n",
    "    \n",
    "figure(figsize=(9,3))\n",
    "plot(values2,a2)\n",
    "plot((values2.max()-values3),a3)\n",
    "xlabel('time Gyr',fontsize = 20)\n",
    "ylabel('scale factor a(t)', fontsize= 20)\n",
    "ylim(0,1.5)\n",
    "\n",
    "title(\"Big Crunch Universe\", fontsize = 20)\n"
   ]
  },
  {
   "cell_type": "markdown",
   "metadata": {},
   "source": [
    "# Problem 2"
   ]
  },
  {
   "cell_type": "markdown",
   "metadata": {},
   "source": [
    "We are given that the density profile of an isothermal sphere is :\n",
    "ρ(r) = σ{v}^2/(2πGr^2)\n",
    "\n",
    "we also know that within an enclosed sphere of radius R, the mass M(R) can be expressed with the following relation:\n",
    "M(R) = ∫{upper R} ρ(r) * dr\n",
    "we can expand the expression out and get \n",
    "∫{R,0}∫{π,0}∫{2π,0} ρ(r) * r^2dφdcosθdr\n",
    "plugging in ρ(r) = σ{v}^2/(2πGr^2) we can simplify with\n",
    "∫{2π,0} dφ = 2π\n",
    "∫{π,0} dcosθ = 1 \n",
    "∫{R,0} dr = R\n",
    "the r^2 simply cancel out and arrive at \n",
    "M(R) =  (2 * σ{v}^2*R)/(G)\n",
    "\n",
    "Then using the hint of the Einstein radius \n",
    "θ{E}^2 = (4 * G * D{ls})/(c^2 * D{l} * D{s})/(4 * G * D{ls})\n",
    "rearranging for mass we get\n",
    "M = (θ^2 * c^2 * D{l} * D{s})/(4 * G * D{ls})\n",
    "\n",
    "Thus, we have two expressions for mass M \n",
    "(2 * σ{v}^2*R)/(G) = (θ^2 * c^2 * D{l} * D{s})/(4 * G * D{ls})\n",
    "\n",
    "we know all of the varibles besides the velocity distribution σ{v}\n",
    "then solving for said variable we get \n",
    "\n",
    "σ{v}^2 = (G * θ^2 * c^2 * D{l} * D{s})/(8 * G * D{ls} * R)\n",
    "\n",
    "The G's easily cancel. Then, using the small angle approximation\n",
    "R/D{s} = θ\n",
    "\n",
    "thus, simplified, we get \n",
    "σ{v}^2 = (θ^2 * c^2 * D{l} * D{s})/(8 * D{ls})\n",
    "\n",
    "and finnaly we can convert θ from radians to arcseconds and arrive at the desired relation\n",
    "\n",
    "σ{v} = 10^3[km * s^-1] * ((θ/28\")(D{s}/D{ls}))^1/2\n"
   ]
  },
  {
   "cell_type": "code",
   "execution_count": null,
   "metadata": {
    "collapsed": true
   },
   "outputs": [],
   "source": []
  }
 ],
 "metadata": {
  "kernelspec": {
   "display_name": "Python 3",
   "language": "python",
   "name": "python3"
  },
  "language_info": {
   "codemirror_mode": {
    "name": "ipython",
    "version": 3
   },
   "file_extension": ".py",
   "mimetype": "text/x-python",
   "name": "python",
   "nbconvert_exporter": "python",
   "pygments_lexer": "ipython3",
   "version": "3.4.3"
  }
 },
 "nbformat": 4,
 "nbformat_minor": 0
}
